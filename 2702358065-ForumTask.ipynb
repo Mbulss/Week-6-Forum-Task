{
  "nbformat": 4,
  "nbformat_minor": 0,
  "metadata": {
    "colab": {
      "provenance": []
    },
    "kernelspec": {
      "name": "python3",
      "display_name": "Python 3"
    },
    "language_info": {
      "name": "python"
    }
  },
  "cells": [
    {
      "cell_type": "markdown",
      "source": [
        "Forum Task 1"
      ],
      "metadata": {
        "id": "kBNmo5hJ5u9x"
      }
    },
    {
      "cell_type": "code",
      "source": [
        "lloyd = {\n",
        "\"name\": \"Lloyd\", \"homework\": [90.0,97.0,75.0,92.0], \"quizzes\": [88.0,40.0,94.0], \"tests\": [75.0,90.0]\n",
        "}\n",
        "alice = {\n",
        "\"name\": \"Alice\", \"homework\": [100.0, 92.0, 98.0, 100.0], \"quizzes\": [82.0, 83.0, 91.0],\"tests\": [89.0, 97.0]\n",
        "}\n",
        "tyler = {\n",
        "\"name\": \"Tyler\", \"homework\": [0.0, 87.0, 75.0, 22.0], \"quizzes\": [0.0, 75.0, 78.0], \"tests\": [100.0, 100.0]\n",
        "}\n",
        "\n",
        "Students = [lloyd,alice,tyler]\n",
        "\n",
        "for S in Students:\n",
        "    print(f\"Name: {S['name']}\")\n",
        "    print(f\"Homework: {S['homework']}\")\n",
        "    print(f\"Quizzez: {S['quizzes']}\")\n",
        "    print(f\"Tests: {S['tests']}\")\n",
        "    print(\"\\n\")\n",
        "\n",
        "def average(num):\n",
        "    total = float(sum(num))\n",
        "    result = total/len(num)\n",
        "    return result\n",
        "\n",
        "def get_average(S):\n",
        "    homework = average(S[\"homework\"])\n",
        "    quizzes = average(S[\"quizzes\"])\n",
        "    tests = average(S[\"tests\"])\n",
        "\n",
        "    return 0.1 * homework + 0.3 * quizzes + 0.6 *tests\n",
        "\n",
        "def get_letter_grade(score):\n",
        "    if score >= 90:\n",
        "        return \"A\"\n",
        "    elif score >= 80:\n",
        "        return \"B\"\n",
        "    elif score >= 70:\n",
        "        return \"C\"\n",
        "    elif score >= 60:\n",
        "        return \"D\"\n",
        "    else:\n",
        "        return \"F\"\n",
        "\n",
        "def get_class_average(Students):\n",
        "    result = []\n",
        "    for S in Students:\n",
        "        S_avg = get_average(S)\n",
        "        result.append(S_avg)\n",
        "    return average(result)\n",
        "\n",
        "class_avg = get_class_average(Students)\n",
        "class_letter_grade = get_letter_grade(class_avg)\n",
        "\n",
        "print(\"Class Average: {:.2f}\".format(class_avg))\n",
        "print(\"Class Letter Grade:\", class_letter_grade)"
      ],
      "metadata": {
        "colab": {
          "base_uri": "https://localhost:8080/"
        },
        "id": "_pcvAH8Q6Ldi",
        "outputId": "ab9ae53a-eaa0-40c1-ca52-fac0b98af54c"
      },
      "execution_count": null,
      "outputs": [
        {
          "output_type": "stream",
          "name": "stdout",
          "text": [
            "Name: Lloyd\n",
            "Homework: [90.0, 97.0, 75.0, 92.0]\n",
            "Quizzez: [88.0, 40.0, 94.0]\n",
            "Tests: [75.0, 90.0]\n",
            "\n",
            "\n",
            "Name: Alice\n",
            "Homework: [100.0, 92.0, 98.0, 100.0]\n",
            "Quizzez: [82.0, 83.0, 91.0]\n",
            "Tests: [89.0, 97.0]\n",
            "\n",
            "\n",
            "Name: Tyler\n",
            "Homework: [0.0, 87.0, 75.0, 22.0]\n",
            "Quizzez: [0.0, 75.0, 78.0]\n",
            "Tests: [100.0, 100.0]\n",
            "\n",
            "\n",
            "Class Average: 83.87\n",
            "Class Letter Grade: B\n"
          ]
        }
      ]
    },
    {
      "cell_type": "markdown",
      "source": [
        "Forum Task 2"
      ],
      "metadata": {
        "id": "HK0oQLqJKqq2"
      }
    },
    {
      "cell_type": "code",
      "source": [
        "course_nums = (\"COP 2510\", \"EGN 300L\", \"MAC 2281\",\"MUH 3016\", \"PHY 2048\")\n",
        "\n",
        "course_names = {\n",
        "    \"COP 2510\": \"Programming Concepts\",\n",
        "    \"EGN 3000L\": \"Foundations of Engineering Lab\",\n",
        "    \"MAC 2281\": \"Calculus I\",\n",
        "    \"MUH 3016\": \"Survey of Jazz\",\n",
        "    \"PHY 2048\": \"General Physics I\"\n",
        "}\n",
        "\n",
        "instructors = {\n",
        "     \"COP 2510\": \"Z. Beasley\",\n",
        "    \"EGN 3000L\": \"J. Anderson\",\n",
        "    \"MAC 2281\": \"A. Makaryus\",\n",
        "    \"MUH 3016\": \"A. Wilkins\",\n",
        "    \"PHY 2048\": \"G. Pradhan\"\n",
        "}\n",
        "\n",
        "class_times = {\n",
        "    \"COP 2510\": \"MW 12:30pm – 1:45pm\",\n",
        "    \"EGN 3000L\": \"TR 11:00am – 12:15pm\",\n",
        "    \"MAC 2281\": \"MW 9:30am – 10:45am\",\n",
        "    \"MUH 3016\": \"online asynchronous\",\n",
        "    \"PHY 2048\": \"TR 5:00pm – 6:15pm\"\n",
        "}\n",
        "\n",
        "def SearchCourse():\n",
        "    course = input(\"Enter a course number: \")\n",
        "    if course in course_nums:\n",
        "        print(f\"The course details are:\\nCourse Name: {course_names[course]}\\nInstructor: {instructors[course]}\\nClass Times: {class_times[course]}\")\n",
        "    else:\n",
        "        print(course + \"is an invalid course number.\")\n",
        "SearchCourse()\n",
        "\n"
      ],
      "metadata": {
        "colab": {
          "base_uri": "https://localhost:8080/"
        },
        "id": "whnlJ_NTKt6X",
        "outputId": "eb52d3b6-17e6-477e-caba-349585e5f14c"
      },
      "execution_count": null,
      "outputs": [
        {
          "output_type": "stream",
          "name": "stdout",
          "text": [
            "Enter a course number: COP 2510\n",
            "The course details are:\n",
            "Course Name: Programming Concepts\n",
            "Instructor: Z. Beasley\n",
            "Class Times: MW 12:30pm – 1:45pm\n"
          ]
        }
      ]
    },
    {
      "cell_type": "markdown",
      "source": [
        "Forum Task 3"
      ],
      "metadata": {
        "id": "p5Zo3jKIUNyX"
      }
    },
    {
      "cell_type": "code",
      "source": [
        "days = (\"Sunday\", \"Monday\", \"Tuesday\", \"Wednesday\", \"Thursday\", \"Friday\", \"Saturday\")\n",
        "\n",
        "sales = []\n",
        "\n",
        "for d in days:\n",
        "    while True:\n",
        "        try:\n",
        "            sales_input = float(input(f\"Enter the sales for {d}: $\"))\n",
        "            if sales_input < 0:\n",
        "                raise ValueError(\"Sales amount must be greater than or equal to 0\")\n",
        "            sales.append(sales_input)\n",
        "            break\n",
        "        except ValueError:\n",
        "            print(f\"Input was invalid. Re-enter the sales for{d}.\")\n",
        "\n",
        "total_sales = sum(sales)\n",
        "min_sale = min(sales)\n",
        "max_sale = max(sales)\n",
        "\n",
        "total_sales_format = \"${:,.2f}\".format(total_sales)\n",
        "min_sale_format = \"${:,.2f}\".format(min_sale)\n",
        "max_sale_format = \"${:,.2f}\".format(max_sale)\n",
        "\n",
        "print(f\"The total sales for the week is: {total_sales_format}\")\n",
        "print(f\"The minimum daily sale amount was: {min_sale_format}\")\n",
        "print(f\"The maximum daily sale amount was: {max_sale_format}\")"
      ],
      "metadata": {
        "id": "I4zxKX_OUQTF",
        "colab": {
          "base_uri": "https://localhost:8080/"
        },
        "outputId": "b58b4e47-bb0e-441e-9638-09a73ab9c14d"
      },
      "execution_count": null,
      "outputs": [
        {
          "output_type": "stream",
          "name": "stdout",
          "text": [
            "Enter the sales for Sunday: $560\n",
            "Enter the sales for Monday: $-670\n",
            "Input was invalid. Re-enter the sales forMonday.\n",
            "Enter the sales for Monday: $670\n",
            "Enter the sales for Tuesday: $1256\n",
            "Enter the sales for Wednesday: $3010\n",
            "Enter the sales for Thursday: $2050\n",
            "Enter the sales for Friday: $-947\n",
            "Input was invalid. Re-enter the sales forFriday.\n",
            "Enter the sales for Friday: $947\n",
            "Enter the sales for Saturday: $1589\n",
            "The total sales for the week is: $10,082.00\n",
            "The minimum daily sale amount was: $560.00\n",
            "The maximum daily sale amount was: $3,010.00\n"
          ]
        }
      ]
    },
    {
      "cell_type": "markdown",
      "source": [
        "Forum Task 4"
      ],
      "metadata": {
        "id": "sTzAH0pPUEZD"
      }
    },
    {
      "cell_type": "code",
      "source": [
        "morse_dict = {\n",
        "    'A': '.-', 'B': '-...', 'C': '-.-.', 'D': '-..', 'E': '.',\n",
        "    'F': '..-.', 'G': '--.', 'H': '....', 'I': '..', 'J': '.---',\n",
        "    'K': '-.-', 'L': '.-..', 'M': '--', 'N': '-.', 'O': '---',\n",
        "    'P': '.--.', 'Q': '--.-', 'R': '.-.', 'S': '...', 'T': '-',\n",
        "    'U': '..-', 'V': '...-', 'W': '.--', 'X': '-..-', 'Y': '-.--',\n",
        "    'Z': '--..', '0': '-----', '1': '.----', '2': '..---', '3': '...--',\n",
        "    '4': '....-', '5': '.....', '6': '-....', '7': '--...', '8': '---..',\n",
        "    '9': '----.', ' ': ' '\n",
        "}\n",
        "\n",
        "def convert(text):\n",
        "    morse_code = []\n",
        "    for char in text:\n",
        "        if char.upper() in morse_dict:\n",
        "            morse_code += morse_dict[char.upper()] + \"\"\n",
        "        else:\n",
        "            morse_code += \" \"\n",
        "\n",
        "    return morse_code\n",
        "\n",
        "user_input = input(\"Enter the string to be converted to Morse code: \")\n",
        "result = (convert(user_input))\n",
        "print(result)"
      ],
      "metadata": {
        "id": "XpVMlGkwZRuv",
        "colab": {
          "base_uri": "https://localhost:8080/"
        },
        "outputId": "566c1ef5-d66b-432d-9b43-d6cbe3f1548b"
      },
      "execution_count": 3,
      "outputs": [
        {
          "output_type": "stream",
          "name": "stdout",
          "text": [
            "Enter the string to be converted to Morse code: ....-. -..... .--.....--..-. .--.-... ....-..-----..-- -.....-. .--.....-- .--.-... -..... --.-..-....-..----...--..\n",
            "[' ', ' ', ' ', ' ', ' ', ' ', ' ', ' ', ' ', ' ', ' ', ' ', ' ', ' ', ' ', ' ', ' ', ' ', ' ', ' ', ' ', ' ', ' ', ' ', ' ', ' ', ' ', ' ', ' ', ' ', ' ', ' ', ' ', ' ', ' ', ' ', ' ', ' ', ' ', ' ', ' ', ' ', ' ', ' ', ' ', ' ', ' ', ' ', ' ', ' ', ' ', ' ', ' ', ' ', ' ', ' ', ' ', ' ', ' ', ' ', ' ', ' ', ' ', ' ', ' ', ' ', ' ', ' ', ' ', ' ', ' ', ' ', ' ', ' ', ' ', ' ', ' ', ' ', ' ', ' ', ' ', ' ', ' ', ' ', ' ', ' ', ' ', ' ', ' ', ' ', ' ', ' ', ' ', ' ', ' ', ' ', ' ', ' ', ' ', ' ', ' ', ' ', ' ', ' ', ' ', ' ', ' ', ' ', ' ', ' ', ' ', ' ', ' ', ' ', ' ', ' ']\n"
          ]
        }
      ]
    }
  ]
}